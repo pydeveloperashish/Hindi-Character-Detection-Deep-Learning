{
 "cells": [
  {
   "cell_type": "code",
   "execution_count": 1,
   "metadata": {},
   "outputs": [],
   "source": [
    "# Convolutional Neural Network\n",
    "\n",
    "# Importing the libraries\n",
    "import tensorflow as tf\n",
    "from tensorflow.keras.preprocessing.image import ImageDataGenerator"
   ]
  },
  {
   "cell_type": "code",
   "execution_count": 2,
   "metadata": {},
   "outputs": [
    {
     "data": {
      "text/plain": [
       "'2.2.0'"
      ]
     },
     "execution_count": 2,
     "metadata": {},
     "output_type": "execute_result"
    }
   ],
   "source": [
    "tf.__version__"
   ]
  },
  {
   "cell_type": "code",
   "execution_count": 3,
   "metadata": {},
   "outputs": [
    {
     "name": "stdout",
     "output_type": "stream",
     "text": [
      "[name: \"/device:CPU:0\"\n",
      "device_type: \"CPU\"\n",
      "memory_limit: 268435456\n",
      "locality {\n",
      "}\n",
      "incarnation: 1683214368817617857\n",
      ", name: \"/device:XLA_CPU:0\"\n",
      "device_type: \"XLA_CPU\"\n",
      "memory_limit: 17179869184\n",
      "locality {\n",
      "}\n",
      "incarnation: 17754445555355964052\n",
      "physical_device_desc: \"device: XLA_CPU device\"\n",
      ", name: \"/device:GPU:0\"\n",
      "device_type: \"GPU\"\n",
      "memory_limit: 3055235892\n",
      "locality {\n",
      "  bus_id: 1\n",
      "  links {\n",
      "  }\n",
      "}\n",
      "incarnation: 3338104938171009113\n",
      "physical_device_desc: \"device: 0, name: GeForce GTX 1650, pci bus id: 0000:01:00.0, compute capability: 7.5\"\n",
      ", name: \"/device:XLA_GPU:0\"\n",
      "device_type: \"XLA_GPU\"\n",
      "memory_limit: 17179869184\n",
      "locality {\n",
      "}\n",
      "incarnation: 17299166647373436299\n",
      "physical_device_desc: \"device: XLA_GPU device\"\n",
      "]\n"
     ]
    }
   ],
   "source": [
    "from tensorflow.python.client import device_lib\n",
    "print(device_lib.list_local_devices())"
   ]
  },
  {
   "cell_type": "code",
   "execution_count": 4,
   "metadata": {},
   "outputs": [
    {
     "data": {
      "text/plain": [
       "[PhysicalDevice(name='/physical_device:GPU:0', device_type='GPU')]"
      ]
     },
     "execution_count": 4,
     "metadata": {},
     "output_type": "execute_result"
    }
   ],
   "source": [
    "tf.config.list_physical_devices('GPU')"
   ]
  },
  {
   "cell_type": "code",
   "execution_count": 5,
   "metadata": {},
   "outputs": [
    {
     "name": "stdout",
     "output_type": "stream",
     "text": [
      "WARNING:tensorflow:From <ipython-input-5-17bb7203622b>:1: is_gpu_available (from tensorflow.python.framework.test_util) is deprecated and will be removed in a future version.\n",
      "Instructions for updating:\n",
      "Use `tf.config.list_physical_devices('GPU')` instead.\n"
     ]
    },
    {
     "data": {
      "text/plain": [
       "True"
      ]
     },
     "execution_count": 5,
     "metadata": {},
     "output_type": "execute_result"
    }
   ],
   "source": [
    "tf.test.is_gpu_available()"
   ]
  },
  {
   "cell_type": "code",
   "execution_count": 6,
   "metadata": {},
   "outputs": [
    {
     "name": "stdout",
     "output_type": "stream",
     "text": [
      "Found 4700 images belonging to 2 classes.\n",
      "Found 1175 images belonging to 2 classes.\n"
     ]
    }
   ],
   "source": [
    "train_datagen = ImageDataGenerator(rescale=1./255,\n",
    "    shear_range=0.2,\n",
    "    zoom_range=0.2,\n",
    "    horizontal_flip=True,\n",
    "    vertical_flip=True,\n",
    "    width_shift_range=0.2,\n",
    "    height_shift_range=0.2,\n",
    "    validation_split=0.2) # set validation split\n",
    "\n",
    "train_generator = train_datagen.flow_from_directory(\n",
    "    r'D:\\Python37\\Projects\\Nvidia_AI_Hackthon\\dataset\\training',\n",
    "    target_size=(64,64),\n",
    "    batch_size=32,\n",
    "    class_mode='categorical',\n",
    "    subset='training') # set as training data\n",
    "\n",
    "validation_generator = train_datagen.flow_from_directory(\n",
    "   r'D:\\Python37\\Projects\\Nvidia_AI_Hackthon\\dataset\\training', # same directory as training data\n",
    "    target_size=(64, 64),\n",
    "    batch_size=32,\n",
    "    class_mode='categorical',\n",
    "    subset='validation') # set as validation data\n",
    "\n",
    "\n",
    "\n",
    "# Preprocessing the Test set\n",
    "#test_datagen = ImageDataGenerator(rescale = 1./255)\n",
    "\n",
    "#test_generator  = test_datagen.flow_from_directory(r'D:\\Python37\\Projects\\Nvidia_AI_Hackthon\\dataset\\test',\n",
    " #                                           target_size = (64, 64),\n",
    "  #                                          batch_size = 32,\n",
    "   #                                         class_mode = 'categorical')\n"
   ]
  },
  {
   "cell_type": "code",
   "execution_count": 7,
   "metadata": {},
   "outputs": [],
   "source": [
    "# Part 2 - Building the CNN\n",
    "\n",
    "# Initialising the CNN\n",
    "cnn = tf.keras.models.Sequential()\n",
    "\n",
    "# Step 1 - Convolution\n",
    "cnn.add(tf.keras.layers.Conv2D(filters=32,padding=\"same\",kernel_size=3, activation='relu', input_shape=[64, 64, 3]))\n",
    "\n",
    "# Step 2 - Pooling\n",
    "cnn.add(tf.keras.layers.MaxPool2D(pool_size=2, strides=2))\n",
    "\n",
    "# Adding a second convolutional layer\n",
    "cnn.add(tf.keras.layers.Conv2D(filters=32,padding='same',kernel_size=3, activation='relu'))\n",
    "cnn.add(tf.keras.layers.MaxPool2D(pool_size=2, strides=2))\n",
    "\n",
    "# Step 3 - Flattening\n",
    "cnn.add(tf.keras.layers.Flatten())\n",
    "\n",
    "# Step 4 - Full Connection\n",
    "cnn.add(tf.keras.layers.Dense(units=128, activation='relu'))\n",
    "\n",
    "# Step 5 - Output Layer\n",
    "cnn.add(tf.keras.layers.Dense(units=2, activation='softmax'))"
   ]
  },
  {
   "cell_type": "code",
   "execution_count": 8,
   "metadata": {},
   "outputs": [
    {
     "name": "stdout",
     "output_type": "stream",
     "text": [
      "Model: \"sequential\"\n",
      "_________________________________________________________________\n",
      "Layer (type)                 Output Shape              Param #   \n",
      "=================================================================\n",
      "conv2d (Conv2D)              (None, 64, 64, 32)        896       \n",
      "_________________________________________________________________\n",
      "max_pooling2d (MaxPooling2D) (None, 32, 32, 32)        0         \n",
      "_________________________________________________________________\n",
      "conv2d_1 (Conv2D)            (None, 32, 32, 32)        9248      \n",
      "_________________________________________________________________\n",
      "max_pooling2d_1 (MaxPooling2 (None, 16, 16, 32)        0         \n",
      "_________________________________________________________________\n",
      "flatten (Flatten)            (None, 8192)              0         \n",
      "_________________________________________________________________\n",
      "dense (Dense)                (None, 128)               1048704   \n",
      "_________________________________________________________________\n",
      "dense_1 (Dense)              (None, 2)                 258       \n",
      "=================================================================\n",
      "Total params: 1,059,106\n",
      "Trainable params: 1,059,106\n",
      "Non-trainable params: 0\n",
      "_________________________________________________________________\n"
     ]
    }
   ],
   "source": [
    "cnn.summary()"
   ]
  },
  {
   "cell_type": "code",
   "execution_count": 9,
   "metadata": {},
   "outputs": [],
   "source": [
    "from tensorflow.keras.callbacks import ModelCheckpoint,EarlyStopping, ReduceLROnPlateau\n",
    "\n",
    "checkpoint = ModelCheckpoint(r\"D:\\Python37\\Projects\\Nvidia_AI_Hackthon\\models\\model1.h5\",\n",
    "                             monitor=\"val_loss\",\n",
    "                             mode=\"min\",\n",
    "                             save_best_only = True,\n",
    "                             verbose=3)\n",
    "\n",
    "earlystop = EarlyStopping(monitor = 'val_loss', \n",
    "                          min_delta = 0, \n",
    "                          patience = 5,\n",
    "                          verbose = 3,\n",
    "                          restore_best_weights = True)\n",
    "\n",
    "learning_rate= ReduceLROnPlateau(monitor = 'val_loss',\n",
    "                                 patience = 3,\n",
    "                                 verbose = 3)\n",
    "\n",
    "\n",
    "# we put our call backs into a callback list\n",
    "callbacks = [checkpoint, learning_rate]\n"
   ]
  },
  {
   "cell_type": "code",
   "execution_count": 10,
   "metadata": {},
   "outputs": [],
   "source": [
    "# Part 3 - Training the CNN\n",
    "\n",
    "# Compiling the CNN\n",
    "cnn.compile(optimizer = 'adam', loss = 'categorical_crossentropy', metrics = ['accuracy'])\n"
   ]
  },
  {
   "cell_type": "code",
   "execution_count": 14,
   "metadata": {},
   "outputs": [
    {
     "name": "stdout",
     "output_type": "stream",
     "text": [
      "Epoch 1/10\n",
      "146/146 [==============================] - ETA: 0s - loss: 0.1137 - accuracy: 0.9587\n",
      "Epoch 00001: val_loss did not improve from 0.14952\n",
      "146/146 [==============================] - 9s 63ms/step - loss: 0.1137 - accuracy: 0.9587 - val_loss: 0.1577 - val_accuracy: 0.9358 - lr: 1.0000e-04\n",
      "Epoch 2/10\n",
      "146/146 [==============================] - ETA: 0s - loss: 0.1169 - accuracy: 0.9565\n",
      "Epoch 00002: val_loss did not improve from 0.14952\n",
      "146/146 [==============================] - 9s 64ms/step - loss: 0.1169 - accuracy: 0.9565 - val_loss: 0.1747 - val_accuracy: 0.9271 - lr: 1.0000e-04\n",
      "Epoch 3/10\n",
      "146/146 [==============================] - ETA: 0s - loss: 0.1036 - accuracy: 0.9604\n",
      "Epoch 00003: val_loss did not improve from 0.14952\n",
      "146/146 [==============================] - 9s 64ms/step - loss: 0.1036 - accuracy: 0.9604 - val_loss: 0.1604 - val_accuracy: 0.9271 - lr: 1.0000e-04\n",
      "Epoch 4/10\n",
      "145/146 [============================>.] - ETA: 0s - loss: 0.1033 - accuracy: 0.9592\n",
      "Epoch 00004: val_loss did not improve from 0.14952\n",
      "\n",
      "Epoch 00004: ReduceLROnPlateau reducing learning rate to 1.0000000474974514e-05.\n",
      "146/146 [==============================] - 9s 64ms/step - loss: 0.1035 - accuracy: 0.9591 - val_loss: 0.1934 - val_accuracy: 0.9236 - lr: 1.0000e-04\n",
      "Epoch 5/10\n",
      "146/146 [==============================] - ETA: 0s - loss: 0.1038 - accuracy: 0.9617\n",
      "Epoch 00005: val_loss did not improve from 0.14952\n",
      "146/146 [==============================] - 9s 64ms/step - loss: 0.1038 - accuracy: 0.9617 - val_loss: 0.1755 - val_accuracy: 0.9306 - lr: 1.0000e-05\n",
      "Epoch 6/10\n",
      "146/146 [==============================] - ETA: 0s - loss: 0.1017 - accuracy: 0.9614\n",
      "Epoch 00006: val_loss did not improve from 0.14952\n",
      "146/146 [==============================] - 9s 64ms/step - loss: 0.1017 - accuracy: 0.9614 - val_loss: 0.1545 - val_accuracy: 0.9358 - lr: 1.0000e-05\n",
      "Epoch 7/10\n",
      "146/146 [==============================] - ETA: 0s - loss: 0.1011 - accuracy: 0.9629\n",
      "Epoch 00007: val_loss did not improve from 0.14952\n",
      "146/146 [==============================] - 9s 64ms/step - loss: 0.1011 - accuracy: 0.9629 - val_loss: 0.1855 - val_accuracy: 0.9262 - lr: 1.0000e-05\n",
      "Epoch 8/10\n",
      "146/146 [==============================] - ETA: 0s - loss: 0.1028 - accuracy: 0.9636\n",
      "Epoch 00008: val_loss did not improve from 0.14952\n",
      "146/146 [==============================] - 9s 64ms/step - loss: 0.1028 - accuracy: 0.9636 - val_loss: 0.1769 - val_accuracy: 0.9236 - lr: 1.0000e-05\n",
      "Epoch 9/10\n",
      "146/146 [==============================] - ETA: 0s - loss: 0.1054 - accuracy: 0.9608\n",
      "Epoch 00009: val_loss did not improve from 0.14952\n",
      "\n",
      "Epoch 00009: ReduceLROnPlateau reducing learning rate to 1.0000000656873453e-06.\n",
      "146/146 [==============================] - 9s 64ms/step - loss: 0.1054 - accuracy: 0.9608 - val_loss: 0.1715 - val_accuracy: 0.9340 - lr: 1.0000e-05\n",
      "Epoch 10/10\n",
      "146/146 [==============================] - ETA: 0s - loss: 0.1043 - accuracy: 0.9612\n",
      "Epoch 00010: val_loss did not improve from 0.14952\n",
      "146/146 [==============================] - 9s 65ms/step - loss: 0.1043 - accuracy: 0.9612 - val_loss: 0.1682 - val_accuracy: 0.9297 - lr: 1.0000e-06\n"
     ]
    }
   ],
   "source": [
    "# Training the CNN on the Training set and evaluating it on the Test set\n",
    "history=cnn.fit_generator(\n",
    "    train_generator,\n",
    "    steps_per_epoch = train_generator.samples // 32,\n",
    "    validation_data = validation_generator, \n",
    "    validation_steps = validation_generator.samples //32,\n",
    "    callbacks=callbacks,\n",
    "    epochs = 10)"
   ]
  },
  {
   "cell_type": "code",
   "execution_count": 15,
   "metadata": {},
   "outputs": [
    {
     "name": "stdout",
     "output_type": "stream",
     "text": [
      "WARNING:tensorflow:From <ipython-input-15-cb1f9ead7d8f>:1: Model.evaluate_generator (from tensorflow.python.keras.engine.training) is deprecated and will be removed in a future version.\n",
      "Instructions for updating:\n",
      "Please use Model.evaluate, which supports generators.\n"
     ]
    }
   ],
   "source": [
    "loss_tr, acc_tr = cnn.evaluate_generator(train_generator)"
   ]
  },
  {
   "cell_type": "code",
   "execution_count": 16,
   "metadata": {},
   "outputs": [
    {
     "name": "stdout",
     "output_type": "stream",
     "text": [
      "0.10035137832164764\n",
      "0.9631915092468262\n"
     ]
    }
   ],
   "source": [
    "print(loss_tr)\n",
    "print(acc_tr)"
   ]
  },
  {
   "cell_type": "code",
   "execution_count": 18,
   "metadata": {},
   "outputs": [],
   "source": [
    "loss_val, acc_val= cnn.evaluate_generator(validation_generator)"
   ]
  },
  {
   "cell_type": "code",
   "execution_count": 19,
   "metadata": {},
   "outputs": [
    {
     "name": "stdout",
     "output_type": "stream",
     "text": [
      "0.1611202359199524\n",
      "0.9429787397384644\n"
     ]
    }
   ],
   "source": [
    "print(loss_val)\n",
    "print(acc_val)"
   ]
  },
  {
   "cell_type": "code",
   "execution_count": 21,
   "metadata": {},
   "outputs": [],
   "source": [
    "import glob\n",
    "from tensorflow.keras.preprocessing import image\n",
    "import numpy as np\n",
    "k = glob.glob(r\"D:\\Python37\\Projects\\Nvidia_AI_Hackthon\\dataset\\test\\*.jpg\")\n",
    "\n",
    "y_true = []\n",
    "y_pred = []\n",
    "for i in k: \n",
    "    test_image = image.load_img(i, target_size = (64,64,3))\n",
    "    test_image = image.img_to_array(test_image)\n",
    "    test_image=test_image/255\n",
    "    test_image = np.expand_dims(test_image, axis = 0)\n",
    "    y_pred.append(cnn.predict(test_image))\n",
    "    #y_true.append(0)\n",
    "\n"
   ]
  },
  {
   "cell_type": "code",
   "execution_count": 84,
   "metadata": {},
   "outputs": [],
   "source": [
    "labels=[]\n",
    "for i in y_pred:\n",
    "    labels.append(int(np.argmax(i[0])))"
   ]
  },
  {
   "cell_type": "code",
   "execution_count": 85,
   "metadata": {},
   "outputs": [],
   "source": [
    "import random\n",
    "import json\n",
    "# from utils.io import write_json\n",
    "\n",
    "def write_json(filename, result):\n",
    "    with open(filename, 'w') as outfile:\n",
    "        json.dump(result, outfile)\n",
    "\n",
    "def read_json(filename):\n",
    "    with open(filename, 'r') as outfile:\n",
    "        data =  json.load(outfile)\n",
    "    return data\n",
    "\n",
    "def generate_sample_file(filename):\n",
    "    res = {}\n",
    "    for i in range(1,100):\n",
    "        test_set = str(i) + '.png'\n",
    "        res[test_set] = labels\n",
    "\n",
    "    write_json(filename, res)\n",
    "\n",
    "if __name__ == '__main__':\n",
    "    generate_sample_file(r'D:\\Python37\\Projects\\Nvidia_AI_Hackthon\\results.json')\n"
   ]
  },
  {
   "cell_type": "code",
   "execution_count": null,
   "metadata": {},
   "outputs": [],
   "source": []
  }
 ],
 "metadata": {
  "kernelspec": {
   "display_name": "Python 3",
   "language": "python",
   "name": "python3"
  },
  "language_info": {
   "codemirror_mode": {
    "name": "ipython",
    "version": 3
   },
   "file_extension": ".py",
   "mimetype": "text/x-python",
   "name": "python",
   "nbconvert_exporter": "python",
   "pygments_lexer": "ipython3",
   "version": "3.7.9"
  }
 },
 "nbformat": 4,
 "nbformat_minor": 4
}
