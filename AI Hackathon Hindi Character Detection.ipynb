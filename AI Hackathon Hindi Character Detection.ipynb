{
 "cells": [
  {
   "cell_type": "code",
   "execution_count": 11,
   "metadata": {},
   "outputs": [],
   "source": [
    "# Convolutional Neural Network\n",
    "\n",
    "# Importing the libraries\n",
    "import tensorflow as tf\n",
    "from tensorflow.keras.preprocessing.image import ImageDataGenerator"
   ]
  },
  {
   "cell_type": "code",
   "execution_count": 12,
   "metadata": {},
   "outputs": [
    {
     "data": {
      "text/plain": [
       "'2.2.0'"
      ]
     },
     "execution_count": 12,
     "metadata": {},
     "output_type": "execute_result"
    }
   ],
   "source": [
    "tf.__version__"
   ]
  },
  {
   "cell_type": "code",
   "execution_count": 13,
   "metadata": {},
   "outputs": [
    {
     "name": "stdout",
     "output_type": "stream",
     "text": [
      "[name: \"/device:CPU:0\"\n",
      "device_type: \"CPU\"\n",
      "memory_limit: 268435456\n",
      "locality {\n",
      "}\n",
      "incarnation: 5327226957336777160\n",
      ", name: \"/device:XLA_CPU:0\"\n",
      "device_type: \"XLA_CPU\"\n",
      "memory_limit: 17179869184\n",
      "locality {\n",
      "}\n",
      "incarnation: 9834014616479322299\n",
      "physical_device_desc: \"device: XLA_CPU device\"\n",
      ", name: \"/device:GPU:0\"\n",
      "device_type: \"GPU\"\n",
      "memory_limit: 3055235892\n",
      "locality {\n",
      "  bus_id: 1\n",
      "  links {\n",
      "  }\n",
      "}\n",
      "incarnation: 129341443862894867\n",
      "physical_device_desc: \"device: 0, name: GeForce GTX 1650, pci bus id: 0000:01:00.0, compute capability: 7.5\"\n",
      ", name: \"/device:XLA_GPU:0\"\n",
      "device_type: \"XLA_GPU\"\n",
      "memory_limit: 17179869184\n",
      "locality {\n",
      "}\n",
      "incarnation: 14698174248488940474\n",
      "physical_device_desc: \"device: XLA_GPU device\"\n",
      "]\n"
     ]
    }
   ],
   "source": [
    "from tensorflow.python.client import device_lib\n",
    "print(device_lib.list_local_devices())"
   ]
  },
  {
   "cell_type": "code",
   "execution_count": 14,
   "metadata": {},
   "outputs": [
    {
     "data": {
      "text/plain": [
       "[PhysicalDevice(name='/physical_device:GPU:0', device_type='GPU')]"
      ]
     },
     "execution_count": 14,
     "metadata": {},
     "output_type": "execute_result"
    }
   ],
   "source": [
    "tf.config.list_physical_devices('GPU')"
   ]
  },
  {
   "cell_type": "code",
   "execution_count": 15,
   "metadata": {},
   "outputs": [
    {
     "name": "stdout",
     "output_type": "stream",
     "text": [
      "WARNING:tensorflow:From <ipython-input-15-17bb7203622b>:1: is_gpu_available (from tensorflow.python.framework.test_util) is deprecated and will be removed in a future version.\n",
      "Instructions for updating:\n",
      "Use `tf.config.list_physical_devices('GPU')` instead.\n"
     ]
    },
    {
     "data": {
      "text/plain": [
       "True"
      ]
     },
     "execution_count": 15,
     "metadata": {},
     "output_type": "execute_result"
    }
   ],
   "source": [
    "tf.test.is_gpu_available()"
   ]
  },
  {
   "cell_type": "code",
   "execution_count": 16,
   "metadata": {},
   "outputs": [
    {
     "name": "stdout",
     "output_type": "stream",
     "text": [
      "Found 4700 images belonging to 2 classes.\n",
      "Found 1175 images belonging to 2 classes.\n"
     ]
    }
   ],
   "source": [
    "train_datagen = ImageDataGenerator(rescale=1./255,\n",
    "    shear_range=0.2,\n",
    "    zoom_range=0.2,\n",
    "    horizontal_flip=True,\n",
    "    vertical_flip=True,\n",
    "    width_shift_range=0.2,\n",
    "    height_shift_range=0.2,\n",
    "    validation_split=0.2) # set validation split\n",
    "\n",
    "train_generator = train_datagen.flow_from_directory(\n",
    "    r'D:\\Python37\\Projects\\Nvidia_AI_Hackthon\\dataset\\training',\n",
    "    target_size=(64,64),\n",
    "    batch_size=32,\n",
    "    class_mode='categorical',\n",
    "    subset='training') # set as training data\n",
    "\n",
    "validation_generator = train_datagen.flow_from_directory(\n",
    "   r'D:\\Python37\\Projects\\Nvidia_AI_Hackthon\\dataset\\training', # same directory as training data\n",
    "    target_size=(64, 64),\n",
    "    batch_size=32,\n",
    "    class_mode='categorical',\n",
    "    subset='validation') # set as validation data\n",
    "\n",
    "\n",
    "\n",
    "# Preprocessing the Test set\n",
    "#test_datagen = ImageDataGenerator(rescale = 1./255)\n",
    "\n",
    "#test_generator  = test_datagen.flow_from_directory(r'D:\\Python37\\Projects\\Nvidia_AI_Hackthon\\dataset\\test',\n",
    " #                                           target_size = (64, 64),\n",
    "  #                                          batch_size = 32,\n",
    "   #                                         class_mode = 'categorical')\n"
   ]
  },
  {
   "cell_type": "code",
   "execution_count": 74,
   "metadata": {},
   "outputs": [],
   "source": [
    "# Part 2 - Building the CNN\n",
    "\n",
    "# Initialising the CNN\n",
    "cnn = tf.keras.models.Sequential()\n",
    "\n",
    "# Step 1 - Convolution\n",
    "cnn.add(tf.keras.layers.Conv2D(filters=32,padding=\"same\",kernel_size=3, activation='relu', input_shape=[64, 64, 3]))\n",
    "\n",
    "# Step 2 - Pooling\n",
    "cnn.add(tf.keras.layers.MaxPool2D(pool_size=2, strides=2))\n",
    "\n",
    "# Adding a second convolutional layer\n",
    "cnn.add(tf.keras.layers.Conv2D(filters=64,padding='same',kernel_size=3, activation='relu'))\n",
    "cnn.add(tf.keras.layers.MaxPool2D(pool_size=2, strides=2))\n",
    "\n",
    "\n",
    "# Adding a third convolutional layer\n",
    "cnn.add(tf.keras.layers.Conv2D(filters=64,padding='same',kernel_size=3, activation='relu'))\n",
    "cnn.add(tf.keras.layers.MaxPool2D(pool_size=2, strides=2))\n",
    "\n",
    "# Adding a fourth convolutional layer\n",
    "cnn.add(tf.keras.layers.Conv2D(filters=128,padding='same',kernel_size=3, activation='relu'))\n",
    "cnn.add(tf.keras.layers.MaxPool2D(pool_size=2, strides=2))\n",
    "\n",
    "# Step 3 - Flattening\n",
    "cnn.add(tf.keras.layers.Flatten())\n",
    "\n",
    "# Step 4 - Full Connection\n",
    "cnn.add(tf.keras.layers.Dense(units=128, activation='relu'))\n",
    "\n",
    "# Step 5 - Output Layer\n",
    "cnn.add(tf.keras.layers.Dense(units=2, activation='softmax'))"
   ]
  },
  {
   "cell_type": "code",
   "execution_count": 75,
   "metadata": {},
   "outputs": [
    {
     "name": "stdout",
     "output_type": "stream",
     "text": [
      "Model: \"sequential_2\"\n",
      "_________________________________________________________________\n",
      "Layer (type)                 Output Shape              Param #   \n",
      "=================================================================\n",
      "conv2d_5 (Conv2D)            (None, 64, 64, 32)        896       \n",
      "_________________________________________________________________\n",
      "max_pooling2d_5 (MaxPooling2 (None, 32, 32, 32)        0         \n",
      "_________________________________________________________________\n",
      "conv2d_6 (Conv2D)            (None, 32, 32, 64)        18496     \n",
      "_________________________________________________________________\n",
      "max_pooling2d_6 (MaxPooling2 (None, 16, 16, 64)        0         \n",
      "_________________________________________________________________\n",
      "conv2d_7 (Conv2D)            (None, 16, 16, 64)        36928     \n",
      "_________________________________________________________________\n",
      "max_pooling2d_7 (MaxPooling2 (None, 8, 8, 64)          0         \n",
      "_________________________________________________________________\n",
      "conv2d_8 (Conv2D)            (None, 8, 8, 128)         73856     \n",
      "_________________________________________________________________\n",
      "max_pooling2d_8 (MaxPooling2 (None, 4, 4, 128)         0         \n",
      "_________________________________________________________________\n",
      "flatten_2 (Flatten)          (None, 2048)              0         \n",
      "_________________________________________________________________\n",
      "dense_4 (Dense)              (None, 128)               262272    \n",
      "_________________________________________________________________\n",
      "dense_5 (Dense)              (None, 2)                 258       \n",
      "=================================================================\n",
      "Total params: 392,706\n",
      "Trainable params: 392,706\n",
      "Non-trainable params: 0\n",
      "_________________________________________________________________\n"
     ]
    }
   ],
   "source": [
    "cnn.summary()"
   ]
  },
  {
   "cell_type": "code",
   "execution_count": 76,
   "metadata": {},
   "outputs": [],
   "source": [
    "from tensorflow.keras.callbacks import ModelCheckpoint,EarlyStopping, ReduceLROnPlateau\n",
    "\n",
    "checkpoint = ModelCheckpoint(r\"D:\\Python37\\Projects\\Nvidia_AI_Hackthon\\models\\model1.h5\",\n",
    "                             monitor=\"val_loss\",\n",
    "                             mode=\"min\",\n",
    "                             save_best_only = True,\n",
    "                             verbose=3)\n",
    "\n",
    "earlystop = EarlyStopping(monitor = 'val_loss', \n",
    "                          min_delta = 0, \n",
    "                          patience = 5,\n",
    "                          verbose = 3,\n",
    "                          restore_best_weights = True)\n",
    "\n",
    "learning_rate= ReduceLROnPlateau(monitor = 'val_loss',\n",
    "                                 patience = 3,\n",
    "                                 verbose = 3)\n",
    "\n",
    "\n",
    "# we put our call backs into a callback list\n",
    "callbacks = [checkpoint, learning_rate]\n"
   ]
  },
  {
   "cell_type": "code",
   "execution_count": 83,
   "metadata": {},
   "outputs": [],
   "source": [
    "# Part 3 - Training the CNN\n",
    "\n",
    "# Compiling the CNN\n",
    "cnn.compile(optimizer = 'adam', loss = 'categorical_crossentropy', metrics = ['accuracy'])\n"
   ]
  },
  {
   "cell_type": "code",
   "execution_count": 84,
   "metadata": {},
   "outputs": [
    {
     "name": "stdout",
     "output_type": "stream",
     "text": [
      "Epoch 1/30\n",
      "146/146 [==============================] - ETA: 0s - loss: 0.0806 - accuracy: 0.9717\n",
      "Epoch 00001: val_loss did not improve from 0.10940\n",
      "146/146 [==============================] - 9s 65ms/step - loss: 0.0806 - accuracy: 0.9717 - val_loss: 0.1378 - val_accuracy: 0.9514 - lr: 0.0010\n",
      "Epoch 2/30\n",
      "146/146 [==============================] - ETA: 0s - loss: 0.0765 - accuracy: 0.9754\n",
      "Epoch 00002: val_loss did not improve from 0.10940\n",
      "146/146 [==============================] - 9s 64ms/step - loss: 0.0765 - accuracy: 0.9754 - val_loss: 0.1329 - val_accuracy: 0.9557 - lr: 0.0010\n",
      "Epoch 3/30\n",
      "146/146 [==============================] - ETA: 0s - loss: 0.0708 - accuracy: 0.9730\n",
      "Epoch 00003: val_loss improved from 0.10940 to 0.09749, saving model to D:\\Python37\\Projects\\Nvidia_AI_Hackthon\\models\\model1.h5\n",
      "146/146 [==============================] - 11s 77ms/step - loss: 0.0708 - accuracy: 0.9730 - val_loss: 0.0975 - val_accuracy: 0.9653 - lr: 0.0010\n",
      "Epoch 4/30\n",
      "146/146 [==============================] - ETA: 0s - loss: 0.0623 - accuracy: 0.9777\n",
      "Epoch 00004: val_loss did not improve from 0.09749\n",
      "146/146 [==============================] - 9s 65ms/step - loss: 0.0623 - accuracy: 0.9777 - val_loss: 0.1688 - val_accuracy: 0.9566 - lr: 0.0010\n",
      "Epoch 5/30\n",
      "146/146 [==============================] - ETA: 0s - loss: 0.0850 - accuracy: 0.9685\n",
      "Epoch 00005: val_loss did not improve from 0.09749\n",
      "146/146 [==============================] - 9s 64ms/step - loss: 0.0850 - accuracy: 0.9685 - val_loss: 0.1296 - val_accuracy: 0.9462 - lr: 0.0010\n",
      "Epoch 6/30\n",
      "146/146 [==============================] - ETA: 0s - loss: 0.0723 - accuracy: 0.9734\n",
      "Epoch 00006: val_loss did not improve from 0.09749\n",
      "\n",
      "Epoch 00006: ReduceLROnPlateau reducing learning rate to 0.00010000000474974513.\n",
      "146/146 [==============================] - 9s 64ms/step - loss: 0.0723 - accuracy: 0.9734 - val_loss: 0.1227 - val_accuracy: 0.9566 - lr: 0.0010\n",
      "Epoch 7/30\n",
      "146/146 [==============================] - ETA: 0s - loss: 0.0569 - accuracy: 0.9794\n",
      "Epoch 00007: val_loss did not improve from 0.09749\n",
      "146/146 [==============================] - 9s 64ms/step - loss: 0.0569 - accuracy: 0.9794 - val_loss: 0.1477 - val_accuracy: 0.9479 - lr: 1.0000e-04\n",
      "Epoch 8/30\n",
      "146/146 [==============================] - ETA: 0s - loss: 0.0515 - accuracy: 0.9814\n",
      "Epoch 00008: val_loss improved from 0.09749 to 0.08928, saving model to D:\\Python37\\Projects\\Nvidia_AI_Hackthon\\models\\model1.h5\n",
      "146/146 [==============================] - 11s 77ms/step - loss: 0.0515 - accuracy: 0.9814 - val_loss: 0.0893 - val_accuracy: 0.9679 - lr: 1.0000e-04\n",
      "Epoch 9/30\n",
      "146/146 [==============================] - ETA: 0s - loss: 0.0511 - accuracy: 0.9803\n",
      "Epoch 00009: val_loss did not improve from 0.08928\n",
      "146/146 [==============================] - 9s 64ms/step - loss: 0.0511 - accuracy: 0.9803 - val_loss: 0.1052 - val_accuracy: 0.9557 - lr: 1.0000e-04\n",
      "Epoch 10/30\n",
      "146/146 [==============================] - ETA: 0s - loss: 0.0465 - accuracy: 0.9846\n",
      "Epoch 00010: val_loss did not improve from 0.08928\n",
      "146/146 [==============================] - 9s 64ms/step - loss: 0.0465 - accuracy: 0.9846 - val_loss: 0.1119 - val_accuracy: 0.9609 - lr: 1.0000e-04\n",
      "Epoch 11/30\n",
      "146/146 [==============================] - ETA: 0s - loss: 0.0409 - accuracy: 0.9848\n",
      "Epoch 00011: val_loss did not improve from 0.08928\n",
      "\n",
      "Epoch 00011: ReduceLROnPlateau reducing learning rate to 1.0000000474974514e-05.\n",
      "146/146 [==============================] - 9s 64ms/step - loss: 0.0409 - accuracy: 0.9848 - val_loss: 0.1006 - val_accuracy: 0.9592 - lr: 1.0000e-04\n",
      "Epoch 12/30\n",
      "146/146 [==============================] - ETA: 0s - loss: 0.0395 - accuracy: 0.9861\n",
      "Epoch 00012: val_loss did not improve from 0.08928\n",
      "146/146 [==============================] - 9s 65ms/step - loss: 0.0395 - accuracy: 0.9861 - val_loss: 0.1225 - val_accuracy: 0.9566 - lr: 1.0000e-05\n",
      "Epoch 13/30\n",
      "146/146 [==============================] - ETA: 0s - loss: 0.0469 - accuracy: 0.9833\n",
      "Epoch 00013: val_loss did not improve from 0.08928\n",
      "146/146 [==============================] - 9s 65ms/step - loss: 0.0469 - accuracy: 0.9833 - val_loss: 0.1078 - val_accuracy: 0.9635 - lr: 1.0000e-05\n",
      "Epoch 14/30\n",
      "146/146 [==============================] - ETA: 0s - loss: 0.0375 - accuracy: 0.9861\n",
      "Epoch 00014: val_loss did not improve from 0.08928\n",
      "\n",
      "Epoch 00014: ReduceLROnPlateau reducing learning rate to 1.0000000656873453e-06.\n",
      "146/146 [==============================] - 9s 65ms/step - loss: 0.0375 - accuracy: 0.9861 - val_loss: 0.1247 - val_accuracy: 0.9601 - lr: 1.0000e-05\n",
      "Epoch 15/30\n",
      "146/146 [==============================] - ETA: 0s - loss: 0.0445 - accuracy: 0.9841\n",
      "Epoch 00015: val_loss did not improve from 0.08928\n",
      "146/146 [==============================] - 9s 65ms/step - loss: 0.0445 - accuracy: 0.9841 - val_loss: 0.1034 - val_accuracy: 0.9653 - lr: 1.0000e-06\n",
      "Epoch 16/30\n",
      "146/146 [==============================] - ETA: 0s - loss: 0.0415 - accuracy: 0.9846\n",
      "Epoch 00016: val_loss did not improve from 0.08928\n",
      "146/146 [==============================] - 10s 66ms/step - loss: 0.0415 - accuracy: 0.9846 - val_loss: 0.1113 - val_accuracy: 0.9583 - lr: 1.0000e-06\n",
      "Epoch 17/30\n",
      "146/146 [==============================] - ETA: 0s - loss: 0.0449 - accuracy: 0.9848\n",
      "Epoch 00017: val_loss did not improve from 0.08928\n",
      "\n",
      "Epoch 00017: ReduceLROnPlateau reducing learning rate to 1.0000001111620805e-07.\n",
      "146/146 [==============================] - 10s 68ms/step - loss: 0.0449 - accuracy: 0.9848 - val_loss: 0.1023 - val_accuracy: 0.9575 - lr: 1.0000e-06\n",
      "Epoch 18/30\n",
      "146/146 [==============================] - ETA: 0s - loss: 0.0373 - accuracy: 0.9867\n",
      "Epoch 00018: val_loss did not improve from 0.08928\n",
      "146/146 [==============================] - 10s 66ms/step - loss: 0.0373 - accuracy: 0.9867 - val_loss: 0.1156 - val_accuracy: 0.9523 - lr: 1.0000e-07\n",
      "Epoch 19/30\n",
      "146/146 [==============================] - ETA: 0s - loss: 0.0385 - accuracy: 0.9863\n",
      "Epoch 00019: val_loss did not improve from 0.08928\n",
      "146/146 [==============================] - 10s 66ms/step - loss: 0.0385 - accuracy: 0.9863 - val_loss: 0.1021 - val_accuracy: 0.9609 - lr: 1.0000e-07\n",
      "Epoch 20/30\n",
      "146/146 [==============================] - ETA: 0s - loss: 0.0449 - accuracy: 0.9829\n",
      "Epoch 00020: val_loss did not improve from 0.08928\n",
      "\n",
      "Epoch 00020: ReduceLROnPlateau reducing learning rate to 1.000000082740371e-08.\n",
      "146/146 [==============================] - 10s 66ms/step - loss: 0.0449 - accuracy: 0.9829 - val_loss: 0.1230 - val_accuracy: 0.9523 - lr: 1.0000e-07\n",
      "Epoch 21/30\n",
      "146/146 [==============================] - ETA: 0s - loss: 0.0377 - accuracy: 0.9861\n",
      "Epoch 00021: val_loss did not improve from 0.08928\n",
      "146/146 [==============================] - 10s 65ms/step - loss: 0.0377 - accuracy: 0.9861 - val_loss: 0.0963 - val_accuracy: 0.9549 - lr: 1.0000e-08\n",
      "Epoch 22/30\n",
      "145/146 [============================>.] - ETA: 0s - loss: 0.0417 - accuracy: 0.9853\n",
      "Epoch 00022: val_loss did not improve from 0.08928\n",
      "146/146 [==============================] - 9s 65ms/step - loss: 0.0424 - accuracy: 0.9850 - val_loss: 0.1028 - val_accuracy: 0.9566 - lr: 1.0000e-08\n",
      "Epoch 23/30\n",
      "145/146 [============================>.] - ETA: 0s - loss: 0.0389 - accuracy: 0.9853\n",
      "Epoch 00023: val_loss did not improve from 0.08928\n",
      "\n",
      "Epoch 00023: ReduceLROnPlateau reducing learning rate to 1.000000082740371e-09.\n",
      "146/146 [==============================] - 9s 65ms/step - loss: 0.0388 - accuracy: 0.9854 - val_loss: 0.1099 - val_accuracy: 0.9618 - lr: 1.0000e-08\n",
      "Epoch 24/30\n",
      "146/146 [==============================] - ETA: 0s - loss: 0.0386 - accuracy: 0.9869\n",
      "Epoch 00024: val_loss did not improve from 0.08928\n",
      "146/146 [==============================] - 10s 65ms/step - loss: 0.0386 - accuracy: 0.9869 - val_loss: 0.1112 - val_accuracy: 0.9644 - lr: 1.0000e-09\n",
      "Epoch 25/30\n",
      "146/146 [==============================] - ETA: 0s - loss: 0.0375 - accuracy: 0.9878\n",
      "Epoch 00025: val_loss did not improve from 0.08928\n",
      "146/146 [==============================] - 9s 65ms/step - loss: 0.0375 - accuracy: 0.9878 - val_loss: 0.1181 - val_accuracy: 0.9514 - lr: 1.0000e-09\n",
      "Epoch 26/30\n",
      "146/146 [==============================] - ETA: 0s - loss: 0.0384 - accuracy: 0.9863\n",
      "Epoch 00026: val_loss did not improve from 0.08928\n",
      "\n",
      "Epoch 00026: ReduceLROnPlateau reducing learning rate to 1.000000082740371e-10.\n",
      "146/146 [==============================] - 10s 65ms/step - loss: 0.0384 - accuracy: 0.9863 - val_loss: 0.1070 - val_accuracy: 0.9653 - lr: 1.0000e-09\n",
      "Epoch 27/30\n",
      "146/146 [==============================] - ETA: 0s - loss: 0.0380 - accuracy: 0.9852\n",
      "Epoch 00027: val_loss did not improve from 0.08928\n",
      "146/146 [==============================] - 9s 64ms/step - loss: 0.0380 - accuracy: 0.9852 - val_loss: 0.1029 - val_accuracy: 0.9635 - lr: 1.0000e-10\n",
      "Epoch 28/30\n",
      "146/146 [==============================] - ETA: 0s - loss: 0.0398 - accuracy: 0.9844\n",
      "Epoch 00028: val_loss did not improve from 0.08928\n",
      "146/146 [==============================] - 9s 64ms/step - loss: 0.0398 - accuracy: 0.9844 - val_loss: 0.1155 - val_accuracy: 0.9531 - lr: 1.0000e-10\n",
      "Epoch 29/30\n",
      "146/146 [==============================] - ETA: 0s - loss: 0.0409 - accuracy: 0.9846\n",
      "Epoch 00029: val_loss did not improve from 0.08928\n",
      "\n",
      "Epoch 00029: ReduceLROnPlateau reducing learning rate to 1.000000082740371e-11.\n",
      "146/146 [==============================] - 9s 65ms/step - loss: 0.0409 - accuracy: 0.9846 - val_loss: 0.1257 - val_accuracy: 0.9540 - lr: 1.0000e-10\n",
      "Epoch 30/30\n",
      "146/146 [==============================] - ETA: 0s - loss: 0.0389 - accuracy: 0.9854\n",
      "Epoch 00030: val_loss did not improve from 0.08928\n",
      "146/146 [==============================] - 9s 65ms/step - loss: 0.0389 - accuracy: 0.9854 - val_loss: 0.0912 - val_accuracy: 0.9635 - lr: 1.0000e-11\n"
     ]
    }
   ],
   "source": [
    "# Training the CNN on the Training set and evaluating it on the Test set\n",
    "history=cnn.fit_generator(\n",
    "    train_generator,\n",
    "    steps_per_epoch = train_generator.samples // 32,\n",
    "    validation_data = validation_generator, \n",
    "    validation_steps = validation_generator.samples //32,\n",
    "    callbacks=callbacks,\n",
    "    epochs = 30)"
   ]
  },
  {
   "cell_type": "code",
   "execution_count": 97,
   "metadata": {},
   "outputs": [],
   "source": [
    "loss_tr, acc_tr = cnn.evaluate_generator(train_generator)"
   ]
  },
  {
   "cell_type": "code",
   "execution_count": 98,
   "metadata": {},
   "outputs": [
    {
     "name": "stdout",
     "output_type": "stream",
     "text": [
      "loss_training:  0.04264264926314354\n",
      "accuracy_training:  0.9851064085960388\n"
     ]
    }
   ],
   "source": [
    "print('loss_training: ',loss_tr)\n",
    "print('accuracy_training: ',acc_tr)"
   ]
  },
  {
   "cell_type": "code",
   "execution_count": 99,
   "metadata": {},
   "outputs": [],
   "source": [
    "loss_val, acc_val= cnn.evaluate_generator(validation_generator)"
   ]
  },
  {
   "cell_type": "code",
   "execution_count": 100,
   "metadata": {},
   "outputs": [
    {
     "name": "stdout",
     "output_type": "stream",
     "text": [
      "loss_validation:  0.1069810763001442\n",
      "accuracy_validation:  0.958297848701477\n"
     ]
    }
   ],
   "source": [
    "print('loss_validation: ',loss_val)\n",
    "print('accuracy_validation: ',acc_val)"
   ]
  },
  {
   "cell_type": "code",
   "execution_count": 101,
   "metadata": {},
   "outputs": [],
   "source": [
    "from tensorflow.keras.models import load_model"
   ]
  },
  {
   "cell_type": "code",
   "execution_count": 102,
   "metadata": {},
   "outputs": [],
   "source": [
    "cnn= load_model(r'D:\\Python37\\Projects\\Nvidia_AI_Hackthon\\models\\model1.h5')"
   ]
  },
  {
   "cell_type": "code",
   "execution_count": 103,
   "metadata": {},
   "outputs": [],
   "source": [
    "import glob\n",
    "from tensorflow.keras.preprocessing import image\n",
    "import numpy as np\n",
    "k = glob.glob(r\"D:\\Python37\\Projects\\Nvidia_AI_Hackthon\\dataset\\test\\*.jpg\")\n",
    "\n",
    "y_pred = []\n",
    "for i in k: \n",
    "    test_image = image.load_img(i, target_size = (64,64,3))\n",
    "    test_image = image.img_to_array(test_image)\n",
    "    test_image=test_image/255\n",
    "    test_image = np.expand_dims(test_image, axis = 0)\n",
    "    y_pred.append(cnn.predict(test_image))\n",
    "\n"
   ]
  },
  {
   "cell_type": "code",
   "execution_count": 104,
   "metadata": {},
   "outputs": [],
   "source": [
    "labels=[]\n",
    "for i in y_pred:\n",
    "    labels.append(str(np.argmax(i[0])))"
   ]
  },
  {
   "cell_type": "code",
   "execution_count": 105,
   "metadata": {},
   "outputs": [],
   "source": [
    "import json\n",
    "\n",
    "j=[]\n",
    "for i in range(1,100):\n",
    "    j.append(str(i)+'.png')\n",
    "    \n",
    "res_dct3 = dict(zip(j, labels))\n",
    "\n",
    "\n",
    "def write_json(filename, result):\n",
    "    with open(filename, 'w') as outfile:\n",
    "        json.dump(result, outfile)\n",
    "\n",
    "write_json(r'D:\\Python37\\Projects\\Nvidia_AI_Hackthon\\result3.json',res_dct3)\n",
    "\n",
    "\n",
    "         "
   ]
  },
  {
   "cell_type": "code",
   "execution_count": 106,
   "metadata": {},
   "outputs": [],
   "source": [
    "import pandas as pd\n",
    "pd.get_option(\"display.max_columns\")\n",
    "pd.set_option(\"display.max_rows\", None)"
   ]
  },
  {
   "cell_type": "code",
   "execution_count": 107,
   "metadata": {},
   "outputs": [
    {
     "data": {
      "text/html": [
       "<div>\n",
       "<style scoped>\n",
       "    .dataframe tbody tr th:only-of-type {\n",
       "        vertical-align: middle;\n",
       "    }\n",
       "\n",
       "    .dataframe tbody tr th {\n",
       "        vertical-align: top;\n",
       "    }\n",
       "\n",
       "    .dataframe thead th {\n",
       "        text-align: right;\n",
       "    }\n",
       "</style>\n",
       "<table border=\"1\" class=\"dataframe\">\n",
       "  <thead>\n",
       "    <tr style=\"text-align: right;\">\n",
       "      <th></th>\n",
       "      <th>1.png</th>\n",
       "      <th>2.png</th>\n",
       "      <th>3.png</th>\n",
       "      <th>4.png</th>\n",
       "      <th>5.png</th>\n",
       "      <th>6.png</th>\n",
       "      <th>7.png</th>\n",
       "      <th>8.png</th>\n",
       "      <th>9.png</th>\n",
       "      <th>10.png</th>\n",
       "      <th>...</th>\n",
       "      <th>89.png</th>\n",
       "      <th>90.png</th>\n",
       "      <th>91.png</th>\n",
       "      <th>92.png</th>\n",
       "      <th>93.png</th>\n",
       "      <th>94.png</th>\n",
       "      <th>95.png</th>\n",
       "      <th>96.png</th>\n",
       "      <th>97.png</th>\n",
       "      <th>98.png</th>\n",
       "    </tr>\n",
       "  </thead>\n",
       "  <tbody>\n",
       "    <tr>\n",
       "      <th>res_dct1</th>\n",
       "      <td>1</td>\n",
       "      <td>0</td>\n",
       "      <td>1</td>\n",
       "      <td>0</td>\n",
       "      <td>1</td>\n",
       "      <td>0</td>\n",
       "      <td>1</td>\n",
       "      <td>0</td>\n",
       "      <td>1</td>\n",
       "      <td>0</td>\n",
       "      <td>...</td>\n",
       "      <td>0</td>\n",
       "      <td>1</td>\n",
       "      <td>0</td>\n",
       "      <td>1</td>\n",
       "      <td>1</td>\n",
       "      <td>1</td>\n",
       "      <td>0</td>\n",
       "      <td>0</td>\n",
       "      <td>0</td>\n",
       "      <td>0</td>\n",
       "    </tr>\n",
       "    <tr>\n",
       "      <th>res_dct2</th>\n",
       "      <td>1</td>\n",
       "      <td>1</td>\n",
       "      <td>1</td>\n",
       "      <td>0</td>\n",
       "      <td>1</td>\n",
       "      <td>0</td>\n",
       "      <td>1</td>\n",
       "      <td>0</td>\n",
       "      <td>1</td>\n",
       "      <td>0</td>\n",
       "      <td>...</td>\n",
       "      <td>1</td>\n",
       "      <td>1</td>\n",
       "      <td>0</td>\n",
       "      <td>1</td>\n",
       "      <td>1</td>\n",
       "      <td>1</td>\n",
       "      <td>0</td>\n",
       "      <td>0</td>\n",
       "      <td>0</td>\n",
       "      <td>0</td>\n",
       "    </tr>\n",
       "    <tr>\n",
       "      <th>res_dct3</th>\n",
       "      <td>1</td>\n",
       "      <td>0</td>\n",
       "      <td>1</td>\n",
       "      <td>0</td>\n",
       "      <td>1</td>\n",
       "      <td>0</td>\n",
       "      <td>1</td>\n",
       "      <td>0</td>\n",
       "      <td>1</td>\n",
       "      <td>0</td>\n",
       "      <td>...</td>\n",
       "      <td>1</td>\n",
       "      <td>1</td>\n",
       "      <td>0</td>\n",
       "      <td>1</td>\n",
       "      <td>1</td>\n",
       "      <td>1</td>\n",
       "      <td>0</td>\n",
       "      <td>0</td>\n",
       "      <td>0</td>\n",
       "      <td>0</td>\n",
       "    </tr>\n",
       "  </tbody>\n",
       "</table>\n",
       "<p>3 rows × 98 columns</p>\n",
       "</div>"
      ],
      "text/plain": [
       "         1.png 2.png 3.png 4.png 5.png 6.png 7.png 8.png 9.png 10.png  ...  \\\n",
       "res_dct1     1     0     1     0     1     0     1     0     1      0  ...   \n",
       "res_dct2     1     1     1     0     1     0     1     0     1      0  ...   \n",
       "res_dct3     1     0     1     0     1     0     1     0     1      0  ...   \n",
       "\n",
       "         89.png 90.png 91.png 92.png 93.png 94.png 95.png 96.png 97.png 98.png  \n",
       "res_dct1      0      1      0      1      1      1      0      0      0      0  \n",
       "res_dct2      1      1      0      1      1      1      0      0      0      0  \n",
       "res_dct3      1      1      0      1      1      1      0      0      0      0  \n",
       "\n",
       "[3 rows x 98 columns]"
      ]
     },
     "execution_count": 107,
     "metadata": {},
     "output_type": "execute_result"
    }
   ],
   "source": [
    "pd.DataFrame(data=[res_dct,res_dct2,res_dct3],index=['res_dct1','res_dct2','res_dct3'])"
   ]
  },
  {
   "cell_type": "code",
   "execution_count": null,
   "metadata": {},
   "outputs": [],
   "source": []
  }
 ],
 "metadata": {
  "kernelspec": {
   "display_name": "Python 3",
   "language": "python",
   "name": "python3"
  },
  "language_info": {
   "codemirror_mode": {
    "name": "ipython",
    "version": 3
   },
   "file_extension": ".py",
   "mimetype": "text/x-python",
   "name": "python",
   "nbconvert_exporter": "python",
   "pygments_lexer": "ipython3",
   "version": "3.7.9"
  }
 },
 "nbformat": 4,
 "nbformat_minor": 4
}
