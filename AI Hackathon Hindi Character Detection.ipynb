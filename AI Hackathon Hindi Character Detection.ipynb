{
 "cells": [
  {
   "cell_type": "code",
   "execution_count": 11,
   "metadata": {},
   "outputs": [],
   "source": [
    "# Convolutional Neural Network\n",
    "\n",
    "# Importing the libraries\n",
    "import tensorflow as tf\n",
    "from tensorflow.keras.preprocessing.image import ImageDataGenerator"
   ]
  },
  {
   "cell_type": "code",
   "execution_count": 12,
   "metadata": {},
   "outputs": [
    {
     "data": {
      "text/plain": [
       "'2.2.0'"
      ]
     },
     "execution_count": 12,
     "metadata": {},
     "output_type": "execute_result"
    }
   ],
   "source": [
    "tf.__version__"
   ]
  },
  {
   "cell_type": "code",
   "execution_count": 13,
   "metadata": {},
   "outputs": [
    {
     "name": "stdout",
     "output_type": "stream",
     "text": [
      "[name: \"/device:CPU:0\"\n",
      "device_type: \"CPU\"\n",
      "memory_limit: 268435456\n",
      "locality {\n",
      "}\n",
      "incarnation: 5327226957336777160\n",
      ", name: \"/device:XLA_CPU:0\"\n",
      "device_type: \"XLA_CPU\"\n",
      "memory_limit: 17179869184\n",
      "locality {\n",
      "}\n",
      "incarnation: 9834014616479322299\n",
      "physical_device_desc: \"device: XLA_CPU device\"\n",
      ", name: \"/device:GPU:0\"\n",
      "device_type: \"GPU\"\n",
      "memory_limit: 3055235892\n",
      "locality {\n",
      "  bus_id: 1\n",
      "  links {\n",
      "  }\n",
      "}\n",
      "incarnation: 129341443862894867\n",
      "physical_device_desc: \"device: 0, name: GeForce GTX 1650, pci bus id: 0000:01:00.0, compute capability: 7.5\"\n",
      ", name: \"/device:XLA_GPU:0\"\n",
      "device_type: \"XLA_GPU\"\n",
      "memory_limit: 17179869184\n",
      "locality {\n",
      "}\n",
      "incarnation: 14698174248488940474\n",
      "physical_device_desc: \"device: XLA_GPU device\"\n",
      "]\n"
     ]
    }
   ],
   "source": [
    "from tensorflow.python.client import device_lib\n",
    "print(device_lib.list_local_devices())"
   ]
  },
  {
   "cell_type": "code",
   "execution_count": 14,
   "metadata": {},
   "outputs": [
    {
     "data": {
      "text/plain": [
       "[PhysicalDevice(name='/physical_device:GPU:0', device_type='GPU')]"
      ]
     },
     "execution_count": 14,
     "metadata": {},
     "output_type": "execute_result"
    }
   ],
   "source": [
    "tf.config.list_physical_devices('GPU')"
   ]
  },
  {
   "cell_type": "code",
   "execution_count": 15,
   "metadata": {},
   "outputs": [
    {
     "name": "stdout",
     "output_type": "stream",
     "text": [
      "WARNING:tensorflow:From <ipython-input-15-17bb7203622b>:1: is_gpu_available (from tensorflow.python.framework.test_util) is deprecated and will be removed in a future version.\n",
      "Instructions for updating:\n",
      "Use `tf.config.list_physical_devices('GPU')` instead.\n"
     ]
    },
    {
     "data": {
      "text/plain": [
       "True"
      ]
     },
     "execution_count": 15,
     "metadata": {},
     "output_type": "execute_result"
    }
   ],
   "source": [
    "tf.test.is_gpu_available()"
   ]
  },
  {
   "cell_type": "code",
   "execution_count": 16,
   "metadata": {},
   "outputs": [
    {
     "name": "stdout",
     "output_type": "stream",
     "text": [
      "Found 4700 images belonging to 2 classes.\n",
      "Found 1175 images belonging to 2 classes.\n"
     ]
    }
   ],
   "source": [
    "train_datagen = ImageDataGenerator(rescale=1./255,\n",
    "    shear_range=0.2,\n",
    "    zoom_range=0.2,\n",
    "    horizontal_flip=True,\n",
    "    vertical_flip=True,\n",
    "    width_shift_range=0.2,\n",
    "    height_shift_range=0.2,\n",
    "    validation_split=0.2) # set validation split\n",
    "\n",
    "train_generator = train_datagen.flow_from_directory(\n",
    "    r'D:\\Python37\\Projects\\Nvidia_AI_Hackthon\\dataset\\training',\n",
    "    target_size=(64,64),\n",
    "    batch_size=32,\n",
    "    class_mode='categorical',\n",
    "    subset='training') # set as training data\n",
    "\n",
    "validation_generator = train_datagen.flow_from_directory(\n",
    "   r'D:\\Python37\\Projects\\Nvidia_AI_Hackthon\\dataset\\training', # same directory as training data\n",
    "    target_size=(64, 64),\n",
    "    batch_size=32,\n",
    "    class_mode='categorical',\n",
    "    subset='validation') # set as validation data\n",
    "\n",
    "\n",
    "\n",
    "# Preprocessing the Test set\n",
    "#test_datagen = ImageDataGenerator(rescale = 1./255)\n",
    "\n",
    "#test_generator  = test_datagen.flow_from_directory(r'D:\\Python37\\Projects\\Nvidia_AI_Hackthon\\dataset\\test',\n",
    " #                                           target_size = (64, 64),\n",
    "  #                                          batch_size = 32,\n",
    "   #                                         class_mode = 'categorical')\n"
   ]
  },
  {
   "cell_type": "code",
   "execution_count": 17,
   "metadata": {},
   "outputs": [],
   "source": [
    "# Part 2 - Building the CNN\n",
    "\n",
    "# Initialising the CNN\n",
    "cnn = tf.keras.models.Sequential()\n",
    "\n",
    "# Step 1 - Convolution\n",
    "cnn.add(tf.keras.layers.Conv2D(filters=32,padding=\"same\",kernel_size=3, activation='relu', input_shape=[64, 64, 3]))\n",
    "\n",
    "# Step 2 - Pooling\n",
    "cnn.add(tf.keras.layers.MaxPool2D(pool_size=2, strides=2))\n",
    "\n",
    "# Adding a second convolutional layer\n",
    "cnn.add(tf.keras.layers.Conv2D(filters=32,padding='same',kernel_size=3, activation='relu'))\n",
    "cnn.add(tf.keras.layers.MaxPool2D(pool_size=2, strides=2))\n",
    "\n",
    "# Step 3 - Flattening\n",
    "cnn.add(tf.keras.layers.Flatten())\n",
    "\n",
    "# Step 4 - Full Connection\n",
    "cnn.add(tf.keras.layers.Dense(units=128, activation='relu'))\n",
    "\n",
    "# Step 5 - Output Layer\n",
    "cnn.add(tf.keras.layers.Dense(units=2, activation='softmax'))"
   ]
  },
  {
   "cell_type": "code",
   "execution_count": 18,
   "metadata": {},
   "outputs": [
    {
     "name": "stdout",
     "output_type": "stream",
     "text": [
      "Model: \"sequential\"\n",
      "_________________________________________________________________\n",
      "Layer (type)                 Output Shape              Param #   \n",
      "=================================================================\n",
      "conv2d (Conv2D)              (None, 64, 64, 32)        896       \n",
      "_________________________________________________________________\n",
      "max_pooling2d (MaxPooling2D) (None, 32, 32, 32)        0         \n",
      "_________________________________________________________________\n",
      "conv2d_1 (Conv2D)            (None, 32, 32, 32)        9248      \n",
      "_________________________________________________________________\n",
      "max_pooling2d_1 (MaxPooling2 (None, 16, 16, 32)        0         \n",
      "_________________________________________________________________\n",
      "flatten (Flatten)            (None, 8192)              0         \n",
      "_________________________________________________________________\n",
      "dense (Dense)                (None, 128)               1048704   \n",
      "_________________________________________________________________\n",
      "dense_1 (Dense)              (None, 2)                 258       \n",
      "=================================================================\n",
      "Total params: 1,059,106\n",
      "Trainable params: 1,059,106\n",
      "Non-trainable params: 0\n",
      "_________________________________________________________________\n"
     ]
    }
   ],
   "source": [
    "cnn.summary()"
   ]
  },
  {
   "cell_type": "code",
   "execution_count": 19,
   "metadata": {},
   "outputs": [],
   "source": [
    "from tensorflow.keras.callbacks import ModelCheckpoint,EarlyStopping, ReduceLROnPlateau\n",
    "\n",
    "checkpoint = ModelCheckpoint(r\"D:\\Python37\\Projects\\Nvidia_AI_Hackthon\\models\\model1.h5\",\n",
    "                             monitor=\"val_loss\",\n",
    "                             mode=\"min\",\n",
    "                             save_best_only = True,\n",
    "                             verbose=3)\n",
    "\n",
    "earlystop = EarlyStopping(monitor = 'val_loss', \n",
    "                          min_delta = 0, \n",
    "                          patience = 5,\n",
    "                          verbose = 3,\n",
    "                          restore_best_weights = True)\n",
    "\n",
    "learning_rate= ReduceLROnPlateau(monitor = 'val_loss',\n",
    "                                 patience = 3,\n",
    "                                 verbose = 3)\n",
    "\n",
    "\n",
    "# we put our call backs into a callback list\n",
    "callbacks = [checkpoint, learning_rate]\n"
   ]
  },
  {
   "cell_type": "code",
   "execution_count": 20,
   "metadata": {},
   "outputs": [],
   "source": [
    "# Part 3 - Training the CNN\n",
    "\n",
    "# Compiling the CNN\n",
    "cnn.compile(optimizer = 'adam', loss = 'categorical_crossentropy', metrics = ['accuracy'])\n"
   ]
  },
  {
   "cell_type": "code",
   "execution_count": 21,
   "metadata": {},
   "outputs": [
    {
     "name": "stdout",
     "output_type": "stream",
     "text": [
      "WARNING:tensorflow:From <ipython-input-21-97d7b1c11a8d>:8: Model.fit_generator (from tensorflow.python.keras.engine.training) is deprecated and will be removed in a future version.\n",
      "Instructions for updating:\n",
      "Please use Model.fit, which supports generators.\n",
      "Epoch 1/10\n",
      "146/146 [==============================] - ETA: 0s - loss: 0.4626 - accuracy: 0.7916\n",
      "Epoch 00001: val_loss improved from inf to 0.38281, saving model to D:\\Python37\\Projects\\Nvidia_AI_Hackthon\\models\\model1.h5\n",
      "146/146 [==============================] - 33s 224ms/step - loss: 0.4626 - accuracy: 0.7916 - val_loss: 0.3828 - val_accuracy: 0.8359 - lr: 0.0010\n",
      "Epoch 2/10\n",
      "146/146 [==============================] - ETA: 0s - loss: 0.3253 - accuracy: 0.8653\n",
      "Epoch 00002: val_loss improved from 0.38281 to 0.28924, saving model to D:\\Python37\\Projects\\Nvidia_AI_Hackthon\\models\\model1.h5\n",
      "146/146 [==============================] - 10s 66ms/step - loss: 0.3253 - accuracy: 0.8653 - val_loss: 0.2892 - val_accuracy: 0.8906 - lr: 0.0010\n",
      "Epoch 3/10\n",
      "146/146 [==============================] - ETA: 0s - loss: 0.2729 - accuracy: 0.8931\n",
      "Epoch 00003: val_loss improved from 0.28924 to 0.28888, saving model to D:\\Python37\\Projects\\Nvidia_AI_Hackthon\\models\\model1.h5\n",
      "146/146 [==============================] - 10s 69ms/step - loss: 0.2729 - accuracy: 0.8931 - val_loss: 0.2889 - val_accuracy: 0.8828 - lr: 0.0010\n",
      "Epoch 4/10\n",
      "145/146 [============================>.] - ETA: 0s - loss: 0.2480 - accuracy: 0.9049\n",
      "Epoch 00004: val_loss improved from 0.28888 to 0.23426, saving model to D:\\Python37\\Projects\\Nvidia_AI_Hackthon\\models\\model1.h5\n",
      "146/146 [==============================] - 10s 66ms/step - loss: 0.2475 - accuracy: 0.9051 - val_loss: 0.2343 - val_accuracy: 0.9054 - lr: 0.0010\n",
      "Epoch 5/10\n",
      "145/146 [============================>.] - ETA: 0s - loss: 0.2270 - accuracy: 0.9180\n",
      "Epoch 00005: val_loss improved from 0.23426 to 0.20685, saving model to D:\\Python37\\Projects\\Nvidia_AI_Hackthon\\models\\model1.h5\n",
      "146/146 [==============================] - 10s 65ms/step - loss: 0.2259 - accuracy: 0.9186 - val_loss: 0.2068 - val_accuracy: 0.9280 - lr: 0.0010\n",
      "Epoch 6/10\n",
      "145/146 [============================>.] - ETA: 0s - loss: 0.2038 - accuracy: 0.9252\n",
      "Epoch 00006: val_loss did not improve from 0.20685\n",
      "146/146 [==============================] - 9s 65ms/step - loss: 0.2037 - accuracy: 0.9252 - val_loss: 0.2220 - val_accuracy: 0.9210 - lr: 0.0010\n",
      "Epoch 7/10\n",
      "145/146 [============================>.] - ETA: 0s - loss: 0.1849 - accuracy: 0.9321\n",
      "Epoch 00007: val_loss did not improve from 0.20685\n",
      "146/146 [==============================] - 9s 65ms/step - loss: 0.1850 - accuracy: 0.9319 - val_loss: 0.2474 - val_accuracy: 0.9028 - lr: 0.0010\n",
      "Epoch 8/10\n",
      "146/146 [==============================] - ETA: 0s - loss: 0.1804 - accuracy: 0.9342\n",
      "Epoch 00008: val_loss improved from 0.20685 to 0.20362, saving model to D:\\Python37\\Projects\\Nvidia_AI_Hackthon\\models\\model1.h5\n",
      "146/146 [==============================] - 10s 65ms/step - loss: 0.1804 - accuracy: 0.9342 - val_loss: 0.2036 - val_accuracy: 0.9149 - lr: 0.0010\n",
      "Epoch 9/10\n",
      "146/146 [==============================] - ETA: 0s - loss: 0.1700 - accuracy: 0.9379\n",
      "Epoch 00009: val_loss improved from 0.20362 to 0.17929, saving model to D:\\Python37\\Projects\\Nvidia_AI_Hackthon\\models\\model1.h5\n",
      "146/146 [==============================] - 9s 64ms/step - loss: 0.1700 - accuracy: 0.9379 - val_loss: 0.1793 - val_accuracy: 0.9323 - lr: 0.0010\n",
      "Epoch 10/10\n",
      "145/146 [============================>.] - ETA: 0s - loss: 0.1566 - accuracy: 0.9446\n",
      "Epoch 00010: val_loss did not improve from 0.17929\n",
      "146/146 [==============================] - 9s 64ms/step - loss: 0.1572 - accuracy: 0.9441 - val_loss: 0.1877 - val_accuracy: 0.9306 - lr: 0.0010\n"
     ]
    }
   ],
   "source": [
    "# Training the CNN on the Training set and evaluating it on the Test set\n",
    "history=cnn.fit_generator(\n",
    "    train_generator,\n",
    "    steps_per_epoch = train_generator.samples // 32,\n",
    "    validation_data = validation_generator, \n",
    "    validation_steps = validation_generator.samples //32,\n",
    "    callbacks=callbacks,\n",
    "    epochs = 10)"
   ]
  },
  {
   "cell_type": "code",
   "execution_count": 22,
   "metadata": {},
   "outputs": [
    {
     "name": "stdout",
     "output_type": "stream",
     "text": [
      "WARNING:tensorflow:From <ipython-input-22-cb1f9ead7d8f>:1: Model.evaluate_generator (from tensorflow.python.keras.engine.training) is deprecated and will be removed in a future version.\n",
      "Instructions for updating:\n",
      "Please use Model.evaluate, which supports generators.\n"
     ]
    }
   ],
   "source": [
    "loss_tr, acc_tr = cnn.evaluate_generator(train_generator)"
   ]
  },
  {
   "cell_type": "code",
   "execution_count": 23,
   "metadata": {},
   "outputs": [
    {
     "name": "stdout",
     "output_type": "stream",
     "text": [
      "0.16547447443008423\n",
      "0.9425531625747681\n"
     ]
    }
   ],
   "source": [
    "print(loss_tr)\n",
    "print(acc_tr)"
   ]
  },
  {
   "cell_type": "code",
   "execution_count": 24,
   "metadata": {},
   "outputs": [],
   "source": [
    "loss_val, acc_val= cnn.evaluate_generator(validation_generator)"
   ]
  },
  {
   "cell_type": "code",
   "execution_count": 25,
   "metadata": {},
   "outputs": [
    {
     "name": "stdout",
     "output_type": "stream",
     "text": [
      "0.1935761421918869\n",
      "0.9276595711708069\n"
     ]
    }
   ],
   "source": [
    "print(loss_val)\n",
    "print(acc_val)"
   ]
  },
  {
   "cell_type": "code",
   "execution_count": 26,
   "metadata": {},
   "outputs": [],
   "source": [
    "from tensorflow.keras.models import load_model"
   ]
  },
  {
   "cell_type": "code",
   "execution_count": 27,
   "metadata": {},
   "outputs": [],
   "source": [
    "cnn= load_model(r'D:\\Python37\\Projects\\Nvidia_AI_Hackthon\\models\\model1.h5')"
   ]
  },
  {
   "cell_type": "code",
   "execution_count": 28,
   "metadata": {},
   "outputs": [],
   "source": [
    "import glob\n",
    "from tensorflow.keras.preprocessing import image\n",
    "import numpy as np\n",
    "k = glob.glob(r\"D:\\Python37\\Projects\\Nvidia_AI_Hackthon\\dataset\\test\\*.jpg\")\n",
    "\n",
    "y_pred = []\n",
    "for i in k: \n",
    "    test_image = image.load_img(i, target_size = (64,64,3))\n",
    "    test_image = image.img_to_array(test_image)\n",
    "    test_image=test_image/255\n",
    "    test_image = np.expand_dims(test_image, axis = 0)\n",
    "    y_pred.append(cnn.predict(test_image))\n",
    "\n"
   ]
  },
  {
   "cell_type": "code",
   "execution_count": 29,
   "metadata": {},
   "outputs": [],
   "source": [
    "labels=[]\n",
    "for i in y_pred:\n",
    "    labels.append(str(np.argmax(i[0])))"
   ]
  },
  {
   "cell_type": "code",
   "execution_count": 30,
   "metadata": {},
   "outputs": [],
   "source": [
    "import json\n",
    "\n",
    "j=[]\n",
    "for i in range(1,100):\n",
    "    j.append(str(i)+'.png')\n",
    "    \n",
    "res_dct = dict(zip(j, labels))\n",
    "\n",
    "\n",
    "def write_json(filename, result):\n",
    "    with open(filename, 'w') as outfile:\n",
    "        json.dump(result, outfile)\n",
    "\n",
    "write_json(r'D:\\Python37\\Projects\\Nvidia_AI_Hackthon\\result.json',res_dct)\n",
    "\n",
    "\n",
    "         "
   ]
  },
  {
   "cell_type": "code",
   "execution_count": null,
   "metadata": {},
   "outputs": [],
   "source": []
  }
 ],
 "metadata": {
  "kernelspec": {
   "display_name": "Python 3",
   "language": "python",
   "name": "python3"
  },
  "language_info": {
   "codemirror_mode": {
    "name": "ipython",
    "version": 3
   },
   "file_extension": ".py",
   "mimetype": "text/x-python",
   "name": "python",
   "nbconvert_exporter": "python",
   "pygments_lexer": "ipython3",
   "version": "3.7.9"
  }
 },
 "nbformat": 4,
 "nbformat_minor": 4
}
